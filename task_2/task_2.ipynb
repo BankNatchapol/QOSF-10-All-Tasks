{
 "cells": [
  {
   "cell_type": "markdown",
   "metadata": {},
   "source": [
    "# Task 2: Noise, Noise, and More Noise\n",
    "\n",
    "One of the main challenges in quantum computing is the noise in current devices. In this task, you will create a simple noise generator and assess its effect. You can use any framework you like (Qiskit, Cirq, etc.).\n",
    "\n",
    "### 1. Noise Model\n",
    "A standard way to represent the noise in a quantum circuit is through Pauli operators ($\\sigma_x$, $\\sigma_y$, $\\sigma_z$). Build a function with input $\\alpha$, $\\beta$, and `QuantumCircuit` where:\n",
    "\n",
    "- $\\alpha$: Probability of having a random Pauli operator acting on the qubit after a one-qubit gate.\n",
    "- $\\beta$: Probability of having a random Pauli operator acting on the qubit after a two-qubit gate.\n",
    "- `QuantumCircuit`: Quantum circuit where the noise will be added.\n",
    "\n",
    "The output should be the `QuantumCircuit` with noise.\n",
    "\n",
    "### 2. Gate Basis\n",
    "Quantum computers can implement only a set of gates that, with transformations, can represent any other possible gate. This set of gates is called the Gate Basis of the QPU. Build a function that transforms a general `QuantumCircuit` to the following gate basis: `{CX, ID, RZ, SX, X}`.\n",
    "\n",
    "### 3. Adding Two Numbers with a Quantum Computer\n",
    "Build a function (`quantum_sum`) to add two numbers using the Draper adder algorithm. You will need the Quantum Fourier Transform (QFT). Many libraries offer a function to use it. For this task, you will need to build QFT from scratch.\n",
    "\n",
    "### 4. Effects of Noise on Quantum Addition\n",
    "Now, we can combine all the functions. Transform the circuit used in the `quantum_sum` to the gate basis and add noise. Use different levels of noise and analyze the results.\n",
    "\n",
    "- How does the noise affect the results?\n",
    "- Is there a way to decrease the effect of noise?\n",
    "- How does the number of gates used affect the results?\n",
    "\n",
    "### References:\n",
    "- [3] Quantum arithmetic with the Quantum Fourier Transform: [https://arxiv.org/pdf/1411.5949.pdf](https://arxiv.org/pdf/1411.5949.pdf)\n"
   ]
  },
  {
   "cell_type": "markdown",
   "metadata": {},
   "source": [
    "from qiskit import QuantumCircuit, transpile\n",
    "from qiskit_aer import AerSimulator\n",
    "from qiskit_aer.noise import (\n",
    "    NoiseModel, pauli_error, depolarizing_error, thermal_relaxation_error\n",
    ")\n",
    "from qiskit.quantum_info import state_fidelity\n",
    "\n",
    "import numpy as np\n",
    "import matplotlib.pyplot as plt"
   ]
  },
  {
   "cell_type": "markdown",
   "metadata": {},
   "source": [
    "from qiskit import QuantumCircuit, transpile\n",
    "from qiskit_aer import AerSimulator\n",
    "from qiskit_aer.noise import (\n",
    "    NoiseModel, pauli_error, depolarizing_error, thermal_relaxation_error\n",
    ")\n",
    "from qiskit.quantum_info import state_fidelity\n",
    "\n",
    "import numpy as np\n",
    "import matplotlib.pyplot as plt"
   ]
  },
  {
   "cell_type": "markdown",
   "metadata": {},
   "source": []
  }
 ],
 "metadata": {
  "language_info": {
   "name": "python"
  }
 },
 "nbformat": 4,
 "nbformat_minor": 2
}
